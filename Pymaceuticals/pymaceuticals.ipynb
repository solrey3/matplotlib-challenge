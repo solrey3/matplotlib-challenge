{
 "cells": [
  {
   "cell_type": "markdown",
   "metadata": {},
   "source": [
    "## Observations and Insights"
   ]
  },
  {
   "cell_type": "markdown",
   "metadata": {},
   "source": [
    "\n",
    "1. Ramicane and Capomulin show the most promise from these findings\n",
    "2. Infubinol and Ceftamin show promise when compared to Placebo results\n",
    "3. Outlier in Infubinol resulted from subject not lasting after timepoint 5.\n",
    "4. Most mouses with successful trial of tumor volume reduction using Capomulin usually results in increase in tumor volume initially with significant decrease in further timepoints "
   ]
  },
  {
   "cell_type": "markdown",
   "metadata": {},
   "source": [
    "## Dependencies and starter code"
   ]
  },
  {
   "cell_type": "code",
   "execution_count": 1,
   "metadata": {},
   "outputs": [],
   "source": [
    "# Dependencies and Setup\n",
    "import matplotlib.pyplot as plt\n",
    "import pandas as pd\n",
    "import scipy.stats as st\n",
    "import numpy as np\n",
    "from scipy.stats import linregress\n",
    "\n",
    "# Study data files\n",
    "mouse_metadata = \"data/Mouse_metadata.csv\"\n",
    "study_results = \"data/Study_results.csv\"\n",
    "\n",
    "# Read the mouse data and the study results\n",
    "mouse_metadata = pd.read_csv(mouse_metadata)\n",
    "study_results = pd.read_csv(study_results)\n",
    "\n",
    "# Combine the data into a single dataset\n",
    "combined_df = pd.merge(mouse_metadata, study_results, on=\"Mouse ID\")"
   ]
  },
  {
   "cell_type": "markdown",
   "metadata": {},
   "source": [
    "## Summary statistics"
   ]
  },
  {
   "cell_type": "code",
   "execution_count": 2,
   "metadata": {},
   "outputs": [
    {
     "data": {
      "text/html": [
       "<div>\n",
       "<style scoped>\n",
       "    .dataframe tbody tr th:only-of-type {\n",
       "        vertical-align: middle;\n",
       "    }\n",
       "\n",
       "    .dataframe tbody tr th {\n",
       "        vertical-align: top;\n",
       "    }\n",
       "\n",
       "    .dataframe thead th {\n",
       "        text-align: right;\n",
       "    }\n",
       "</style>\n",
       "<table border=\"1\" class=\"dataframe\">\n",
       "  <thead>\n",
       "    <tr style=\"text-align: right;\">\n",
       "      <th></th>\n",
       "      <th>Mean</th>\n",
       "      <th>Median</th>\n",
       "      <th>Variance</th>\n",
       "      <th>Standard Deviation</th>\n",
       "      <th>SEM</th>\n",
       "    </tr>\n",
       "    <tr>\n",
       "      <th>Drug Regimen</th>\n",
       "      <th></th>\n",
       "      <th></th>\n",
       "      <th></th>\n",
       "      <th></th>\n",
       "      <th></th>\n",
       "    </tr>\n",
       "  </thead>\n",
       "  <tbody>\n",
       "    <tr>\n",
       "      <th>Capomulin</th>\n",
       "      <td>40.675741</td>\n",
       "      <td>41.557809</td>\n",
       "      <td>24.947764</td>\n",
       "      <td>4.994774</td>\n",
       "      <td>0.329346</td>\n",
       "    </tr>\n",
       "    <tr>\n",
       "      <th>Ceftamin</th>\n",
       "      <td>52.591172</td>\n",
       "      <td>51.776157</td>\n",
       "      <td>39.290177</td>\n",
       "      <td>6.268188</td>\n",
       "      <td>0.469821</td>\n",
       "    </tr>\n",
       "    <tr>\n",
       "      <th>Infubinol</th>\n",
       "      <td>52.884795</td>\n",
       "      <td>51.820584</td>\n",
       "      <td>43.128684</td>\n",
       "      <td>6.567243</td>\n",
       "      <td>0.492236</td>\n",
       "    </tr>\n",
       "    <tr>\n",
       "      <th>Ketapril</th>\n",
       "      <td>55.235638</td>\n",
       "      <td>53.698743</td>\n",
       "      <td>68.553577</td>\n",
       "      <td>8.279709</td>\n",
       "      <td>0.603860</td>\n",
       "    </tr>\n",
       "    <tr>\n",
       "      <th>Naftisol</th>\n",
       "      <td>54.331565</td>\n",
       "      <td>52.509285</td>\n",
       "      <td>66.173479</td>\n",
       "      <td>8.134708</td>\n",
       "      <td>0.596466</td>\n",
       "    </tr>\n",
       "    <tr>\n",
       "      <th>Placebo</th>\n",
       "      <td>54.033581</td>\n",
       "      <td>52.288934</td>\n",
       "      <td>61.168083</td>\n",
       "      <td>7.821003</td>\n",
       "      <td>0.581331</td>\n",
       "    </tr>\n",
       "    <tr>\n",
       "      <th>Propriva</th>\n",
       "      <td>52.322552</td>\n",
       "      <td>50.854632</td>\n",
       "      <td>42.351070</td>\n",
       "      <td>6.507770</td>\n",
       "      <td>0.512884</td>\n",
       "    </tr>\n",
       "    <tr>\n",
       "      <th>Ramicane</th>\n",
       "      <td>40.216745</td>\n",
       "      <td>40.673236</td>\n",
       "      <td>23.486704</td>\n",
       "      <td>4.846308</td>\n",
       "      <td>0.320955</td>\n",
       "    </tr>\n",
       "    <tr>\n",
       "      <th>Stelasyn</th>\n",
       "      <td>54.233149</td>\n",
       "      <td>52.431737</td>\n",
       "      <td>59.450562</td>\n",
       "      <td>7.710419</td>\n",
       "      <td>0.573111</td>\n",
       "    </tr>\n",
       "    <tr>\n",
       "      <th>Zoniferol</th>\n",
       "      <td>53.236507</td>\n",
       "      <td>51.818479</td>\n",
       "      <td>48.533355</td>\n",
       "      <td>6.966589</td>\n",
       "      <td>0.516398</td>\n",
       "    </tr>\n",
       "  </tbody>\n",
       "</table>\n",
       "</div>"
      ],
      "text/plain": [
       "                   Mean     Median   Variance  Standard Deviation       SEM\n",
       "Drug Regimen                                                               \n",
       "Capomulin     40.675741  41.557809  24.947764            4.994774  0.329346\n",
       "Ceftamin      52.591172  51.776157  39.290177            6.268188  0.469821\n",
       "Infubinol     52.884795  51.820584  43.128684            6.567243  0.492236\n",
       "Ketapril      55.235638  53.698743  68.553577            8.279709  0.603860\n",
       "Naftisol      54.331565  52.509285  66.173479            8.134708  0.596466\n",
       "Placebo       54.033581  52.288934  61.168083            7.821003  0.581331\n",
       "Propriva      52.322552  50.854632  42.351070            6.507770  0.512884\n",
       "Ramicane      40.216745  40.673236  23.486704            4.846308  0.320955\n",
       "Stelasyn      54.233149  52.431737  59.450562            7.710419  0.573111\n",
       "Zoniferol     53.236507  51.818479  48.533355            6.966589  0.516398"
      ]
     },
     "execution_count": 2,
     "metadata": {},
     "output_type": "execute_result"
    }
   ],
   "source": [
    "# Generate a summary statistics table of mean, median, variance, standard deviation, and SEM of the tumor volume for each regimen\n",
    "regimen_groups = combined_df.groupby(['Drug Regimen'])\n",
    "regimen_mean = regimen_groups['Tumor Volume (mm3)'].mean()\n",
    "regimen_median = regimen_groups['Tumor Volume (mm3)'].median()\n",
    "regimen_variance = regimen_groups['Tumor Volume (mm3)'].var()\n",
    "regimen_std = regimen_groups['Tumor Volume (mm3)'].std()\n",
    "regimen_sem = regimen_groups['Tumor Volume (mm3)'].sem()\n",
    "\n",
    "regimen_summary_df = pd.DataFrame({\"Mean\": regimen_mean,\n",
    "                                   \"Median\": regimen_median,\n",
    "                                   \"Variance\": regimen_variance,\n",
    "                                   \"Standard Deviation\": regimen_std,\n",
    "                                   \"SEM\": regimen_sem\n",
    "                                  })\n",
    "regimen_summary_df"
   ]
  },
  {
   "cell_type": "markdown",
   "metadata": {},
   "source": [
    "## Bar plots"
   ]
  },
  {
   "cell_type": "code",
   "execution_count": 3,
   "metadata": {},
   "outputs": [
    {
     "data": {
      "text/plain": [
       "Text(0, 0.5, 'Count')"
      ]
     },
     "execution_count": 3,
     "metadata": {},
     "output_type": "execute_result"
    },
    {
     "data": {
      "image/png": "[encoded data removed]",
      "text/plain": [
       "<Figure size 432x288 with 1 Axes>"
      ]
     },
     "metadata": {
      "needs_background": "light"
     },
     "output_type": "display_data"
    }
   ],
   "source": [
    "# Generate a bar plot showing number of data points for each treatment regimen using pandas\n",
    "regimen_counts = combined_df[\"Drug Regimen\"].value_counts()\n",
    "\n",
    "bar_plot = regimen_counts.plot(kind=\"bar\")\n",
    "bar_plot.set_xlabel(\"Drug Regimen\")\n",
    "bar_plot.set_ylabel(\"Count\")\n"
   ]
  },
  {
   "cell_type": "code",
   "execution_count": 4,
   "metadata": {},
   "outputs": [
    {
     "data": {
      "image/png": "[encoded data removed]",
      "text/plain": [
       "<Figure size 432x288 with 1 Axes>"
      ]
     },
     "metadata": {
      "needs_background": "light"
     },
     "output_type": "display_data"
    },
    {
     "data": {
      "text/plain": [
       "<Figure size 432x288 with 0 Axes>"
      ]
     },
     "metadata": {},
     "output_type": "display_data"
    }
   ],
   "source": [
    "# # Generate a bar plot showing number of data points for each treatment regimen using pyplot\n",
    "\n",
    "regimen_names = ['Capomulin','Ramicane','Ketapril','Naftisol','Zoniferol','Placebo','Stelasyn','Ceftamin','Infubinol','Propriva']\n",
    "\n",
    "regimen_counts = []\n",
    "\n",
    "for drug in regimen_names:\n",
    "    regimen_counts.append(combined_df.loc[combined_df[\"Drug Regimen\"] == drug, \"Drug Regimen\"].count())\n",
    "\n",
    "# Set x axis and tick locations\n",
    "x_axis = np.arange(len(regimen_names))\n",
    "tick_locations = [value for value in x_axis]    \n",
    "\n",
    "plt.bar(x_axis, regimen_counts)\n",
    "plt.xticks(tick_locations, regimen_names, rotation=\"vertical\")\n",
    "plt.ylabel(\"Count\")\n",
    "plt.xlabel(\"Drug Regimen\")\n",
    "plt.show()\n",
    "plt.tight_layout()"
   ]
  },
  {
   "cell_type": "markdown",
   "metadata": {},
   "source": [
    "## Pie plots"
   ]
  },
  {
   "cell_type": "code",
   "execution_count": 5,
   "metadata": {},
   "outputs": [
    {
     "data": {
      "image/png": "[encoded data removed]",
      "text/plain": [
       "<Figure size 432x288 with 1 Axes>"
      ]
     },
     "metadata": {},
     "output_type": "display_data"
    }
   ],
   "source": [
    "# Generate a pie plot showing the distribution of female versus male mice using pandas\n",
    "sex_counts = mouse_metadata[\"Sex\"].value_counts()\n",
    "\n",
    "pie_plot = sex_counts.plot(kind=\"pie\",autopct='%1.1f%%')"
   ]
  },
  {
   "cell_type": "code",
   "execution_count": 6,
   "metadata": {},
   "outputs": [
    {
     "data": {
      "image/png": "[encoded data removed]",
      "text/plain": [
       "<Figure size 432x288 with 1 Axes>"
      ]
     },
     "metadata": {},
     "output_type": "display_data"
    },
    {
     "data": {
      "text/plain": [
       "<Figure size 432x288 with 0 Axes>"
      ]
     },
     "metadata": {},
     "output_type": "display_data"
    }
   ],
   "source": [
    "# Generate a pie plot showing the distribution of female versus male mice using pyplot\n",
    "sex_names = mouse_metadata[\"Sex\"].unique()\n",
    "\n",
    "sex_counts = []\n",
    "\n",
    "for i in sex_names:\n",
    "    sex_counts.append(mouse_metadata.loc[mouse_metadata[\"Sex\"] == i, \"Sex\"].count())\n",
    "\n",
    "plt.pie(sex_counts, labels=sex_names,\n",
    "        autopct=\"%1.1f%%\",)    \n",
    "plt.ylabel(\"Sex\")\n",
    "plt.show()\n",
    "plt.tight_layout()"
   ]
  },
  {
   "cell_type": "markdown",
   "metadata": {},
   "source": [
    "## Quartiles, outliers and boxplots"
   ]
  },
  {
   "cell_type": "code",
   "execution_count": 7,
   "metadata": {},
   "outputs": [
    {
     "name": "stdout",
     "output_type": "stream",
     "text": [
      "Ramicane\n",
      "The lower quartile of Tumor Volume is: 31.56046955\n",
      "The upper quartile of Tumor Volume is: 40.65900627\n",
      "The interquartile range of Tumor Volume is: 9.098536719999998\n",
      "The the median of Tumor Volume is: 36.56165229 \n",
      "Values below 17.912664470000003 could be outliers.\n",
      "Values above 54.30681135 could be outliers.\n",
      "\n",
      "Capomulin\n",
      "The lower quartile of Tumor Volume is: 32.37735684\n",
      "The upper quartile of Tumor Volume is: 40.1592203\n",
      "The interquartile range of Tumor Volume is: 7.781863460000004\n",
      "The the median of Tumor Volume is: 38.125164399999996 \n",
      "Values below 20.70456164999999 could be outliers.\n",
      "Values above 51.83201549 could be outliers.\n",
      "\n",
      "Infubinol\n",
      "The lower quartile of Tumor Volume is: 54.04860769\n",
      "The upper quartile of Tumor Volume is: 65.52574285\n",
      "The interquartile range of Tumor Volume is: 11.477135160000003\n",
      "The the median of Tumor Volume is: 60.16518046 \n",
      "Values below 36.83290494999999 could be outliers.\n",
      "Values above 82.74144559000001 could be outliers.\n",
      "\n",
      "Ceftamin\n",
      "The lower quartile of Tumor Volume is: 48.72207785\n",
      "The upper quartile of Tumor Volume is: 64.29983003\n",
      "The interquartile range of Tumor Volume is: 15.577752179999997\n",
      "The the median of Tumor Volume is: 59.85195552 \n",
      "Values below 25.355449580000002 could be outliers.\n",
      "Values above 87.66645829999999 could be outliers.\n",
      "\n"
     ]
    }
   ],
   "source": [
    "# Calculate the final tumor volume of each mouse across four of the most promising treatment regimens.\n",
    "mouse_names = mouse_metadata[\"Mouse ID\"]\n",
    "\n",
    "mouse_treatment = mouse_metadata[\"Drug Regimen\"]\n",
    "\n",
    "mouse_final_timepoint = []\n",
    "\n",
    "for i in mouse_names:\n",
    "    mouse_final_timepoint.append(combined_df.loc[combined_df[\"Mouse ID\"] == i, \"Timepoint\"].max())\n",
    "\n",
    "mouse_final_tumor_volume = []\n",
    "\n",
    "for i in range(0,len(mouse_names)):\n",
    "    mouse_tp_vol = combined_df.loc[combined_df[\"Mouse ID\"] == mouse_names[i], [\"Timepoint\",\"Tumor Volume (mm3)\"]]\n",
    "    mouse_final_tumor_volume.append(mouse_tp_vol.loc[mouse_tp_vol[\"Timepoint\"] == mouse_final_timepoint[i], \"Tumor Volume (mm3)\"].min())\n",
    "\n",
    "\n",
    "# Calculate the IQR and quantitatively determine if there are any potential outliers. \n",
    "#len(mouse_treatment)\n",
    "\n",
    "final_volume_df = pd.DataFrame(\n",
    "    {'Mouse ID': mouse_names,\n",
    "     'Drug Regimen': mouse_treatment,\n",
    "     'Timepoint': mouse_final_timepoint,\n",
    "     'Tumor Volume': mouse_final_tumor_volume     \n",
    "    })\n",
    "\n",
    "final_volume_df\n",
    "\n",
    "final_volume_regimen_groups = final_volume_df.groupby(['Drug Regimen'])\n",
    "\n",
    "\n",
    "\n",
    "regimen_names = ['Ramicane','Capomulin','Infubinol','Ceftamin']\n",
    "regimen_names\n",
    "\n",
    "for name in regimen_names:\n",
    "    final_regimen_df = final_volume_df.loc[final_volume_df[\"Drug Regimen\"] == name,\"Tumor Volume\"]\n",
    "    quartiles = final_regimen_df.quantile([.25,.5,.75])\n",
    "    lowerq = quartiles[0.25]\n",
    "    upperq = quartiles[0.75]\n",
    "    iqr = upperq-lowerq\n",
    "    print(name)\n",
    "    print(f\"The lower quartile of Tumor Volume is: {lowerq}\")\n",
    "    print(f\"The upper quartile of Tumor Volume is: {upperq}\")\n",
    "    print(f\"The interquartile range of Tumor Volume is: {iqr}\")\n",
    "    print(f\"The the median of Tumor Volume is: {quartiles[0.5]} \")\n",
    "    lower_bound = lowerq - (1.5*iqr)\n",
    "    upper_bound = upperq + (1.5*iqr)\n",
    "    print(f\"Values below {lower_bound} could be outliers.\")\n",
    "    print(f\"Values above {upper_bound} could be outliers.\")\n",
    "    print(\"\")\n"
   ]
  },
  {
   "cell_type": "code",
   "execution_count": 8,
   "metadata": {},
   "outputs": [
    {
     "data": {
      "image/png": "[encoded data removed]",
      "text/plain": [
       "<Figure size 432x288 with 1 Axes>"
      ]
     },
     "metadata": {
      "needs_background": "light"
     },
     "output_type": "display_data"
    }
   ],
   "source": [
    "# Generate a box plot of the final tumor volume of each mouse across four regimens of interest\n",
    "\n",
    "four_regimens = ['Ramicane','Capomulin','Infubinol','Ceftamin']\n",
    "\n",
    "df1 = final_volume_df.loc[final_volume_df[\"Drug Regimen\"] == four_regimens[0],\"Tumor Volume\"]\n",
    "df2 = final_volume_df.loc[final_volume_df[\"Drug Regimen\"] == four_regimens[1],\"Tumor Volume\"]\n",
    "df3 = final_volume_df.loc[final_volume_df[\"Drug Regimen\"] == four_regimens[2],\"Tumor Volume\"]\n",
    "df4 = final_volume_df.loc[final_volume_df[\"Drug Regimen\"] == four_regimens[3],\"Tumor Volume\"]\n",
    "    \n",
    "    \n",
    "fig1, ax1 = plt.subplots()\n",
    "ax1.set_title('Final Tumor Volumes from Treatment')\n",
    "ax1.set_ylabel('Tumor Volume')\n",
    "ax1.set_xlabel('Drug')\n",
    "ax1.boxplot([df1,df2,df3,df4], labels=four_regimens)\n",
    "plt.show()\n",
    "\n"
   ]
  },
  {
   "cell_type": "markdown",
   "metadata": {},
   "source": [
    "## Line and scatter plots"
   ]
  },
  {
   "cell_type": "code",
   "execution_count": 9,
   "metadata": {},
   "outputs": [
    {
     "data": {
      "text/plain": [
       "Text(0.5, 1.0, 'Capomulin Treatment of mouse l509')"
      ]
     },
     "execution_count": 9,
     "metadata": {},
     "output_type": "execute_result"
    },
    {
     "data": {
      "image/png": "[encoded data removed]",
      "text/plain": [
       "<Figure size 432x288 with 1 Axes>"
      ]
     },
     "metadata": {
      "needs_background": "light"
     },
     "output_type": "display_data"
    }
   ],
   "source": [
    "# Generate a line plot of time point versus tumor volume for a mouse treated with Capomulin\n",
    "capomulin_mouse_df = mouse_metadata.loc[mouse_metadata[\"Drug Regimen\"] == 'Capomulin',:]\n",
    "\n",
    "capmouses = capomulin_mouse_df[\"Mouse ID\"].reset_index(drop=True)\n",
    "\n",
    "#selected_mouse = random.randrange(0, len(capmouses))\n",
    "\n",
    "selected_mouse_df = combined_df.loc[combined_df[\"Mouse ID\"] == 'l509', :]\n",
    "\n",
    "line_timepoint = selected_mouse_df[\"Timepoint\"]\n",
    "line_tumor = selected_mouse_df[\"Tumor Volume (mm3)\"]\n",
    "\n",
    "plt.plot(line_timepoint, line_tumor)\n",
    "plt.xlabel(\"Timepoint\")\n",
    "plt.ylabel(\"Tumor Volume (mm3)\")\n",
    "plt.title(f\"Capomulin Treatment of mouse l509\")"
   ]
  },
  {
   "cell_type": "code",
   "execution_count": 10,
   "metadata": {},
   "outputs": [],
   "source": [
    "# import random\n",
    "# # Generate a line plot of time point versus tumor volume for a mouse treated with Capomulin\n",
    "# capomulin_mouse_df = mouse_metadata.loc[mouse_metadata[\"Drug Regimen\"] == 'Capomulin',:]\n",
    "\n",
    "# capmouses = capomulin_mouse_df[\"Mouse ID\"].reset_index(drop=True)\n",
    "\n",
    "# selected_mouse = random.randrange(0, len(capmouses))\n",
    "\n",
    "# selected_mouse_df = combined_df.loc[combined_df[\"Mouse ID\"] == capmouses[selected_mouse], :]\n",
    "\n",
    "# line_timepoint = selected_mouse_df[\"Timepoint\"]\n",
    "# line_tumor = selected_mouse_df[\"Tumor Volume (mm3)\"]\n",
    "\n",
    "# plt.plot(line_timepoint, line_tumor)\n",
    "# plt.xlabel(\"Timepoint\")\n",
    "# plt.ylabel(\"Tumor Volume (mm3)\")\n",
    "# plt.title(f\"Capomulin Treatment of mouse {capmouses[selected_mouse]}\")"
   ]
  },
  {
   "cell_type": "code",
   "execution_count": 11,
   "metadata": {},
   "outputs": [
    {
     "data": {
      "text/plain": [
       "Text(0, 0.5, 'Tumor Volume (mm3)')"
      ]
     },
     "execution_count": 11,
     "metadata": {},
     "output_type": "execute_result"
    },
    {
     "data": {
      "image/png": "[encoded data removed]",
      "text/plain": [
       "<Figure size 432x288 with 1 Axes>"
      ]
     },
     "metadata": {
      "needs_background": "light"
     },
     "output_type": "display_data"
    }
   ],
   "source": [
    "# Generate a scatter plot of mouse weight versus average tumor volume for the Capomulin regimen\n",
    "\n",
    "capmouses = capomulin_mouse_df[\"Mouse ID\"]\n",
    "capweights = capomulin_mouse_df[\"Weight (g)\"]\n",
    "captumvol = []\n",
    "\n",
    "capomulin_mouse_df = mouse_metadata.loc[mouse_metadata[\"Drug Regimen\"] == 'Capomulin',:]\n",
    "\n",
    "for mouse in capmouses:\n",
    "    captumvol.append(combined_df.loc[combined_df[\"Mouse ID\"] == mouse, \"Tumor Volume (mm3)\"].mean())\n",
    "\n",
    "captumvol\n",
    "\n",
    "plt.scatter(capweights, captumvol, marker=\"o\", edgecolors=\"black\",\n",
    "            alpha=0.75)\n",
    "plt.xlabel(\"Weight (g)\")\n",
    "plt.ylabel(\"Tumor Volume (mm3)\")\n"
   ]
  },
  {
   "cell_type": "code",
   "execution_count": 12,
   "metadata": {},
   "outputs": [
    {
     "name": "stdout",
     "output_type": "stream",
     "text": [
      "The correlation between mouse weight and average tumor volume is 0.84\n"
     ]
    },
    {
     "data": {
      "image/png": "[encoded data removed]",
      "text/plain": [
       "<Figure size 432x288 with 1 Axes>"
      ]
     },
     "metadata": {
      "needs_background": "light"
     },
     "output_type": "display_data"
    }
   ],
   "source": [
    "# Calculate the correlation coefficient and linear regression model for mouse weight and \n",
    "#average tumor volume for the Capomulin regimen\n",
    "correlation = st.pearsonr(capweights,captumvol)\n",
    "print(f\"The correlation between mouse weight and average tumor volume is {round(correlation[0],2)}\")\n",
    "\n",
    "\n",
    "# Add the linear regression equation and line to plot\n",
    "x_values = capweights\n",
    "y_values = captumvol\n",
    "(slope, intercept, rvalue, pvalue, stderr) = linregress(x_values, y_values)\n",
    "regress_values = x_values * slope + intercept\n",
    "line_eq = \"y = \" + str(round(slope,2)) + \"x + \" + str(round(intercept,2))\n",
    "plt.scatter(x_values,y_values)\n",
    "plt.plot(x_values,regress_values,\"r-\")\n",
    "plt.annotate(line_eq,(18,36),fontsize=15,color=\"red\")\n",
    "plt.xlabel('Weight (g)')\n",
    "plt.ylabel('Tumor Volume (mm3)')\n",
    "plt.show()"
   ]
  },
  {
   "cell_type": "code",
   "execution_count": null,
   "metadata": {},
   "outputs": [],
   "source": []
  }
 ],
 "metadata": {
  "anaconda-cloud": {},
  "kernelspec": {
   "display_name": "Python 3",
   "language": "python",
   "name": "python3"
  },
  "language_info": {
   "codemirror_mode": {
    "name": "ipython",
    "version": 3
   },
   "file_extension": ".py",
   "mimetype": "text/x-python",
   "name": "python",
   "nbconvert_exporter": "python",
   "pygments_lexer": "ipython3",
   "version": "3.6.10"
  }
 },
 "nbformat": 4,
 "nbformat_minor": 2
}
